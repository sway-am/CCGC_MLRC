{
  "nbformat": 4,
  "nbformat_minor": 0,
  "metadata": {
    "colab": {
      "provenance": [],
      "toc_visible": true,
      "gpuType": "T4",
      "include_colab_link": true
    },
    "kernelspec": {
      "name": "python3",
      "display_name": "Python 3"
    },
    "language_info": {
      "name": "python"
    },
    "accelerator": "GPU"
  },
  "cells": [
    {
      "cell_type": "markdown",
      "metadata": {
        "id": "view-in-github",
        "colab_type": "text"
      },
      "source": [
        "<a href=\"https://colab.research.google.com/github/sway-am/CCGC_MLRC/blob/main/CCGC_MLRC.ipynb\" target=\"_parent\"><img src=\"https://colab.research.google.com/assets/colab-badge.svg\" alt=\"Open In Colab\"/></a>"
      ]
    },
    {
      "cell_type": "markdown",
      "source": [
        "### REQUIREMENTS"
      ],
      "metadata": {
        "id": "yEwqUNuvILvI"
      }
    },
    {
      "cell_type": "code",
      "execution_count": null,
      "metadata": {
        "colab": {
          "base_uri": "https://localhost:8080/"
        },
        "id": "IYI1f1QcxJbJ",
        "outputId": "22ca955b-146e-4f08-ffc1-4c53b607d1d7"
      },
      "outputs": [
        {
          "output_type": "stream",
          "name": "stdout",
          "text": [
            "Mounted at /content/gdrive\n"
          ]
        }
      ],
      "source": [
        "from google.colab import drive\n",
        "drive.mount('/content/gdrive')"
      ]
    },
    {
      "cell_type": "code",
      "source": [
        "%cd /content/gdrive/MyDrive"
      ],
      "metadata": {
        "colab": {
          "base_uri": "https://localhost:8080/"
        },
        "id": "SCI3RLNWxxd0",
        "outputId": "56793315-0698-434f-b31d-d777d4ab7d9c"
      },
      "execution_count": null,
      "outputs": [
        {
          "output_type": "stream",
          "name": "stdout",
          "text": [
            "/content/gdrive/MyDrive\n"
          ]
        }
      ]
    },
    {
      "cell_type": "code",
      "source": [
        "!git clone https://github.com/sway-am/CCGC_MLRC.git"
      ],
      "metadata": {
        "colab": {
          "base_uri": "https://localhost:8080/"
        },
        "id": "ooZOk3RtxRmu",
        "outputId": "2b4e2d0c-6a55-4d63-880e-e553c1130dbb"
      },
      "execution_count": null,
      "outputs": [
        {
          "output_type": "stream",
          "name": "stdout",
          "text": [
            "Cloning into 'CCGC_MLRC'...\n",
            "remote: Enumerating objects: 50, done.\u001b[K\n",
            "remote: Counting objects: 100% (50/50), done.\u001b[K\n",
            "remote: Compressing objects: 100% (40/40), done.\u001b[K\n",
            "remote: Total 50 (delta 14), reused 31 (delta 6), pack-reused 0\u001b[K\n",
            "Receiving objects: 100% (50/50), 1.78 MiB | 8.44 MiB/s, done.\n",
            "Resolving deltas: 100% (14/14), done.\n"
          ]
        }
      ]
    },
    {
      "cell_type": "code",
      "source": [
        "%cd /content/gdrive/MyDrive/CCGC_MLRC"
      ],
      "metadata": {
        "colab": {
          "base_uri": "https://localhost:8080/"
        },
        "id": "S_a6GwYsxhSD",
        "outputId": "6224d3d8-581a-4190-9253-1bfb0392f3d1"
      },
      "execution_count": null,
      "outputs": [
        {
          "output_type": "stream",
          "name": "stdout",
          "text": [
            "/content/gdrive/MyDrive/CCGC_MLRC\n"
          ]
        }
      ]
    },
    {
      "cell_type": "code",
      "source": [
        "!pip install munkres"
      ],
      "metadata": {
        "colab": {
          "base_uri": "https://localhost:8080/"
        },
        "id": "FVl6LFrq03p5",
        "outputId": "370f1442-3c5f-42ec-a894-8d3ea93b63cd"
      },
      "execution_count": null,
      "outputs": [
        {
          "output_type": "stream",
          "name": "stdout",
          "text": [
            "Collecting munkres\n",
            "  Downloading munkres-1.1.4-py2.py3-none-any.whl (7.0 kB)\n",
            "Installing collected packages: munkres\n",
            "Successfully installed munkres-1.1.4\n"
          ]
        }
      ]
    },
    {
      "cell_type": "code",
      "source": [
        "!pip install torch_geometric"
      ],
      "metadata": {
        "colab": {
          "base_uri": "https://localhost:8080/"
        },
        "id": "fkJrFs7v0676",
        "outputId": "c26743c6-e404-4fbe-808f-d32011787ec9"
      },
      "execution_count": null,
      "outputs": [
        {
          "output_type": "stream",
          "name": "stdout",
          "text": [
            "Collecting torch_geometric\n",
            "  Downloading torch_geometric-2.4.0-py3-none-any.whl (1.0 MB)\n",
            "\u001b[2K     \u001b[90m━━━━━━━━━━━━━━━━━━━━━━━━━━━━━━━━━━━━━━━━\u001b[0m \u001b[32m1.0/1.0 MB\u001b[0m \u001b[31m6.6 MB/s\u001b[0m eta \u001b[36m0:00:00\u001b[0m\n",
            "\u001b[?25hRequirement already satisfied: tqdm in /usr/local/lib/python3.10/dist-packages (from torch_geometric) (4.66.1)\n",
            "Requirement already satisfied: numpy in /usr/local/lib/python3.10/dist-packages (from torch_geometric) (1.23.5)\n",
            "Requirement already satisfied: scipy in /usr/local/lib/python3.10/dist-packages (from torch_geometric) (1.11.4)\n",
            "Requirement already satisfied: jinja2 in /usr/local/lib/python3.10/dist-packages (from torch_geometric) (3.1.3)\n",
            "Requirement already satisfied: requests in /usr/local/lib/python3.10/dist-packages (from torch_geometric) (2.31.0)\n",
            "Requirement already satisfied: pyparsing in /usr/local/lib/python3.10/dist-packages (from torch_geometric) (3.1.1)\n",
            "Requirement already satisfied: scikit-learn in /usr/local/lib/python3.10/dist-packages (from torch_geometric) (1.2.2)\n",
            "Requirement already satisfied: psutil>=5.8.0 in /usr/local/lib/python3.10/dist-packages (from torch_geometric) (5.9.5)\n",
            "Requirement already satisfied: MarkupSafe>=2.0 in /usr/local/lib/python3.10/dist-packages (from jinja2->torch_geometric) (2.1.3)\n",
            "Requirement already satisfied: charset-normalizer<4,>=2 in /usr/local/lib/python3.10/dist-packages (from requests->torch_geometric) (3.3.2)\n",
            "Requirement already satisfied: idna<4,>=2.5 in /usr/local/lib/python3.10/dist-packages (from requests->torch_geometric) (3.6)\n",
            "Requirement already satisfied: urllib3<3,>=1.21.1 in /usr/local/lib/python3.10/dist-packages (from requests->torch_geometric) (2.0.7)\n",
            "Requirement already satisfied: certifi>=2017.4.17 in /usr/local/lib/python3.10/dist-packages (from requests->torch_geometric) (2023.11.17)\n",
            "Requirement already satisfied: joblib>=1.1.1 in /usr/local/lib/python3.10/dist-packages (from scikit-learn->torch_geometric) (1.3.2)\n",
            "Requirement already satisfied: threadpoolctl>=2.0.0 in /usr/local/lib/python3.10/dist-packages (from scikit-learn->torch_geometric) (3.2.0)\n",
            "Installing collected packages: torch_geometric\n",
            "Successfully installed torch_geometric-2.4.0\n"
          ]
        }
      ]
    },
    {
      "cell_type": "markdown",
      "source": [
        "### **Reproducing accuracy table**\n",
        " hyperparameters are mentioned in comments alongside every run"
      ],
      "metadata": {
        "id": "6k4ygaR6oOgV"
      }
    },
    {
      "cell_type": "markdown",
      "source": [
        "### AMAP"
      ],
      "metadata": {
        "id": "A5rCcR_j0ts0"
      }
    },
    {
      "cell_type": "code",
      "source": [
        "!python train.py # num classes = 8, alpha = 0.5, t = 0.7"
      ],
      "metadata": {
        "colab": {
          "base_uri": "https://localhost:8080/"
        },
        "id": "7ZtwT4TzMIR3",
        "outputId": "c1778cac-74e2-44c8-ac6f-c5046bf0049d"
      },
      "execution_count": null,
      "outputs": [
        {
          "output_type": "stream",
          "name": "stdout",
          "text": [
            "++++++++++++++++++++++++++++++\n",
            "---details of graph dataset---\n",
            "++++++++++++++++++++++++++++++\n",
            "dataset name:    amap\n",
            "feature shape:   (7650, 745)\n",
            "label shape:     (7650,)\n",
            "adj shape:       (7650, 7650)\n",
            "undirected edge num:    119081\n",
            "category num:           8\n",
            "category distribution: \n",
            "label 0:369\n",
            "label 1:1686\n",
            "label 2:703\n",
            "label 3:915\n",
            "label 4:882\n",
            "label 5:823\n",
            "label 6:1941\n",
            "label 7:331\n",
            "++++++++++++++++++++++++++++++\n",
            "100% 400/400 [00:41<00:00,  9.56it/s]\n",
            "100% 400/400 [00:40<00:00,  9.85it/s]\n",
            "100% 400/400 [00:40<00:00,  9.76it/s]\n",
            "100% 400/400 [00:41<00:00,  9.65it/s]\n",
            "100% 400/400 [00:40<00:00,  9.80it/s]\n",
            "100% 400/400 [00:40<00:00,  9.83it/s]\n",
            "100% 400/400 [00:41<00:00,  9.65it/s]\n",
            "100% 400/400 [00:41<00:00,  9.56it/s]\n",
            "100% 400/400 [00:41<00:00,  9.55it/s]\n",
            "100% 400/400 [00:42<00:00,  9.47it/s]\n",
            "73.75686274509805 ± 0.3378623500429904\n",
            "59.939259378114755 ± 0.6986736407550502\n",
            "52.43958707864982 ± 0.4764249404247637\n",
            "71.1053600298559 ± 0.576282709460719\n"
          ]
        }
      ]
    },
    {
      "cell_type": "markdown",
      "source": [
        "### EAT"
      ],
      "metadata": {
        "id": "e2QblTAb9HuL"
      }
    },
    {
      "cell_type": "code",
      "source": [
        "!python train.py ## num classes = 4, alpha = 0.6, t = 0.7"
      ],
      "metadata": {
        "colab": {
          "base_uri": "https://localhost:8080/"
        },
        "id": "233VzI7x9ayN",
        "outputId": "30efe9b2-cab8-4d00-95cc-e071103f0114"
      },
      "execution_count": null,
      "outputs": [
        {
          "output_type": "stream",
          "name": "stdout",
          "text": [
            "++++++++++++++++++++++++++++++\n",
            "---details of graph dataset---\n",
            "++++++++++++++++++++++++++++++\n",
            "dataset name:    eat\n",
            "feature shape:   (399, 203)\n",
            "label shape:     (399,)\n",
            "adj shape:       (399, 399)\n",
            "undirected edge num:    5994\n",
            "category num:           4\n",
            "category distribution: \n",
            "label 0:99\n",
            "label 1:99\n",
            "label 2:99\n",
            "label 3:102\n",
            "++++++++++++++++++++++++++++++\n",
            "100% 400/400 [00:05<00:00, 71.18it/s]\n",
            "100% 400/400 [00:04<00:00, 95.81it/s]\n",
            "100% 400/400 [00:04<00:00, 95.04it/s]\n",
            "100% 400/400 [00:05<00:00, 76.78it/s]\n",
            "100% 400/400 [00:04<00:00, 96.01it/s]\n",
            "100% 400/400 [00:04<00:00, 94.54it/s]\n",
            "100% 400/400 [00:05<00:00, 77.77it/s]\n",
            "100% 400/400 [00:04<00:00, 92.26it/s]\n",
            "100% 400/400 [00:04<00:00, 95.69it/s]\n",
            "100% 400/400 [00:04<00:00, 81.68it/s]\n",
            "52.4812030075188 ± 0.4648430323556754\n",
            "25.660931154148113 ± 0.6252097417489575\n",
            "20.20258112033636 ± 0.4009072470124499\n",
            "53.07705131365181 ± 0.4580696574031913\n"
          ]
        }
      ]
    },
    {
      "cell_type": "markdown",
      "source": [
        "###UAT"
      ],
      "metadata": {
        "id": "1g3b5vJPDaS2"
      }
    },
    {
      "cell_type": "code",
      "source": [
        "!python train.py ## num classes = 4, alpha = 0.01, t = 0.7"
      ],
      "metadata": {
        "colab": {
          "base_uri": "https://localhost:8080/"
        },
        "id": "wJCa0v5GDZzN",
        "outputId": "f3254387-8fa8-4eb1-d93b-99a4e5e648be"
      },
      "execution_count": null,
      "outputs": [
        {
          "output_type": "stream",
          "name": "stdout",
          "text": [
            "++++++++++++++++++++++++++++++\n",
            "---details of graph dataset---\n",
            "++++++++++++++++++++++++++++++\n",
            "dataset name:    uat\n",
            "feature shape:   (1190, 239)\n",
            "label shape:     (1190,)\n",
            "adj shape:       (1190, 1190)\n",
            "undirected edge num:    13599\n",
            "category num:           4\n",
            "category distribution: \n",
            "label 0:297\n",
            "label 1:297\n",
            "label 2:297\n",
            "label 3:299\n",
            "++++++++++++++++++++++++++++++\n",
            "100% 400/400 [00:08<00:00, 45.16it/s]\n",
            "100% 400/400 [00:07<00:00, 53.26it/s]\n",
            "100% 400/400 [00:07<00:00, 51.49it/s]\n",
            "100% 400/400 [00:07<00:00, 51.61it/s]\n",
            "100% 400/400 [00:07<00:00, 52.07it/s]\n",
            "100% 400/400 [00:07<00:00, 50.03it/s]\n",
            "100% 400/400 [00:07<00:00, 53.86it/s]\n",
            "100% 400/400 [00:08<00:00, 48.25it/s]\n",
            "100% 400/400 [00:07<00:00, 54.88it/s]\n",
            "100% 400/400 [00:08<00:00, 48.22it/s]\n",
            "54.2436974789916 ± 0.9736664055677697\n",
            "27.364522687334567 ± 0.7216625083908568\n",
            "22.15207687247575 ± 2.913996372729605\n",
            "50.280872680848006 ± 2.2232289735024358\n"
          ]
        }
      ]
    },
    {
      "cell_type": "markdown",
      "source": [
        "###CITESEER"
      ],
      "metadata": {
        "id": "D0-bkEH7FYFB"
      }
    },
    {
      "cell_type": "code",
      "source": [
        "!python train.py ## num classes = 6, alpha = 10, t = 0.7"
      ],
      "metadata": {
        "colab": {
          "base_uri": "https://localhost:8080/"
        },
        "id": "hK_ZKAcxFc_X",
        "outputId": "244cbe49-f585-4a2a-8055-43f114dd1f28"
      },
      "execution_count": null,
      "outputs": [
        {
          "output_type": "stream",
          "name": "stdout",
          "text": [
            "++++++++++++++++++++++++++++++\n",
            "---details of graph dataset---\n",
            "++++++++++++++++++++++++++++++\n",
            "dataset name:    citeseer\n",
            "feature shape:   (3327, 3703)\n",
            "label shape:     (3327,)\n",
            "adj shape:       (3327, 3327)\n",
            "undirected edge num:    4614\n",
            "category num:           6\n",
            "category distribution: \n",
            "label 0:264\n",
            "label 1:590\n",
            "label 2:668\n",
            "label 3:701\n",
            "label 4:596\n",
            "label 5:508\n",
            "++++++++++++++++++++++++++++++\n",
            "100% 400/400 [00:18<00:00, 21.16it/s]\n",
            "100% 400/400 [00:18<00:00, 21.53it/s]\n",
            "100% 400/400 [00:19<00:00, 20.73it/s]\n",
            "100% 400/400 [00:18<00:00, 21.53it/s]\n",
            "100% 400/400 [00:18<00:00, 21.47it/s]\n",
            "100% 400/400 [00:19<00:00, 20.91it/s]\n",
            "100% 400/400 [00:18<00:00, 21.35it/s]\n",
            "100% 400/400 [00:18<00:00, 21.77it/s]\n",
            "100% 400/400 [00:19<00:00, 20.56it/s]\n",
            "100% 400/400 [00:18<00:00, 22.02it/s]\n",
            "68.99909828674481 ± 1.5346913540338323\n",
            "43.24825885224043 ± 1.1820073256553174\n",
            "44.357689483060554 ± 1.8354538119732342\n",
            "63.93692587142921 ± 1.7411770617957223\n"
          ]
        }
      ]
    },
    {
      "cell_type": "markdown",
      "source": [
        "###CORA"
      ],
      "metadata": {
        "id": "LIazx-JEHkzC"
      }
    },
    {
      "cell_type": "code",
      "source": [
        "!python train.py # num samples = 7, t = 0.7, alpha = 0.5"
      ],
      "metadata": {
        "colab": {
          "base_uri": "https://localhost:8080/"
        },
        "id": "aK8-GsI5F34H",
        "outputId": "dea04d16-ed89-47e4-b55a-9cffe2d2f1d6"
      },
      "execution_count": null,
      "outputs": [
        {
          "output_type": "stream",
          "name": "stdout",
          "text": [
            "100% 400/400 [00:17<00:00, 23.24it/s]\n",
            "100% 400/400 [00:17<00:00, 23.51it/s]\n",
            "100% 400/400 [00:17<00:00, 22.45it/s]\n",
            "100% 400/400 [00:16<00:00, 23.80it/s]\n",
            "100% 400/400 [00:16<00:00, 23.72it/s]\n",
            "100% 400/400 [00:16<00:00, 23.69it/s]\n",
            "100% 400/400 [00:17<00:00, 22.80it/s]\n",
            "100% 400/400 [00:16<00:00, 23.77it/s]\n",
            "100% 400/400 [00:16<00:00, 23.58it/s]\n",
            "100% 400/400 [00:17<00:00, 23.47it/s]\n",
            "74.08050221565732 ± 1.360966990182797\n",
            "56.73313136971302 ± 1.4640243523722114\n",
            "51.892489528183646 ± 1.4534660170879583\n",
            "71.46870742377517 ± 1.667738706782504\n"
          ]
        }
      ]
    },
    {
      "cell_type": "markdown",
      "source": [
        "### BAT"
      ],
      "metadata": {
        "id": "BDNSO6yRcEvK"
      }
    },
    {
      "cell_type": "code",
      "source": [
        "!python train.py # num samples = 4, t = 0.7, alpha = 0.5"
      ],
      "metadata": {
        "colab": {
          "base_uri": "https://localhost:8080/"
        },
        "id": "cAwI4oqRcF7L",
        "outputId": "49347842-3ef7-46da-8d02-de2892a8c91f"
      },
      "execution_count": null,
      "outputs": [
        {
          "output_type": "stream",
          "name": "stdout",
          "text": [
            "++++++++++++++++++++++++++++++\n",
            "---details of graph dataset---\n",
            "++++++++++++++++++++++++++++++\n",
            "dataset name:    bat\n",
            "feature shape:   (131, 81)\n",
            "label shape:     (131,)\n",
            "adj shape:       (131, 131)\n",
            "undirected edge num:    1038\n",
            "category num:           4\n",
            "category distribution: \n",
            "label 0:32\n",
            "label 1:32\n",
            "label 2:32\n",
            "label 3:35\n",
            "++++++++++++++++++++++++++++++\n",
            "100% 400/400 [00:04<00:00, 91.74it/s]\n",
            "100% 400/400 [00:03<00:00, 111.74it/s]\n",
            "100% 400/400 [00:03<00:00, 122.23it/s]\n",
            "100% 400/400 [00:03<00:00, 123.02it/s]\n",
            "100% 400/400 [00:03<00:00, 101.78it/s]\n",
            "100% 400/400 [00:03<00:00, 109.57it/s]\n",
            "100% 400/400 [00:03<00:00, 122.70it/s]\n",
            "100% 400/400 [00:03<00:00, 124.13it/s]\n",
            "100% 400/400 [00:03<00:00, 105.20it/s]\n",
            "100% 400/400 [00:03<00:00, 107.35it/s]\n",
            "72.44274809160305 ± 1.2520014860195958\n",
            "48.085932612559915 ± 1.7673428154599846\n",
            "43.75872344741723 ± 2.6229576460081176\n",
            "72.60397858215485 ± 1.1283557704772065\n"
          ]
        }
      ]
    },
    {
      "cell_type": "markdown",
      "source": [
        "### **Without Positive & Without Neg**\n",
        "removing the positive loss and neg loss component respectively from the loss funct in train.py"
      ],
      "metadata": {
        "id": "QV5zlPk7PoVL"
      }
    },
    {
      "cell_type": "markdown",
      "source": [
        "## CORA"
      ],
      "metadata": {
        "id": "Q8FULwH9QIK1"
      }
    },
    {
      "cell_type": "code",
      "source": [
        "!python train.py #w/o pos # num samples = 7, t = 0.7, alpha = 0.5"
      ],
      "metadata": {
        "colab": {
          "base_uri": "https://localhost:8080/"
        },
        "id": "iEpH08rKOQXM",
        "outputId": "76574ae8-3b4f-43b4-f833-263774670a40"
      },
      "execution_count": null,
      "outputs": [
        {
          "output_type": "stream",
          "name": "stdout",
          "text": [
            "100% 400/400 [00:16<00:00, 23.80it/s]\n",
            "100% 400/400 [00:16<00:00, 24.00it/s]\n",
            "100% 400/400 [00:10<00:00, 38.07it/s] \n",
            "100% 400/400 [00:16<00:00, 23.89it/s]\n",
            "100% 400/400 [00:11<00:00, 36.26it/s] \n",
            "100% 400/400 [00:16<00:00, 23.61it/s]\n",
            "100% 400/400 [00:17<00:00, 23.49it/s]\n",
            "100% 400/400 [00:16<00:00, 23.71it/s]\n",
            "100% 400/400 [00:16<00:00, 24.11it/s]\n",
            "100% 400/400 [00:16<00:00, 23.55it/s]\n",
            "72.39660265878878 ± 2.049150305010372\n",
            "55.796074996841355 ± 1.4066350687675653\n",
            "50.03957556303375 ± 2.3762305584313186\n",
            "68.58446622616023 ± 2.976009606632052\n"
          ]
        }
      ]
    },
    {
      "cell_type": "code",
      "source": [
        "!python train.py #w/o neg # num samples = 7, t = 0.7, alpha = 0.5"
      ],
      "metadata": {
        "colab": {
          "base_uri": "https://localhost:8080/"
        },
        "id": "x7DLsdLsQKDq",
        "outputId": "00bc187a-1a51-480a-ce8d-01fe628ac93b"
      },
      "execution_count": null,
      "outputs": [
        {
          "output_type": "stream",
          "name": "stdout",
          "text": [
            "100% 400/400 [00:17<00:00, 23.37it/s]\n",
            "100% 400/400 [00:17<00:00, 23.08it/s]\n",
            "100% 400/400 [00:16<00:00, 24.36it/s]\n",
            "100% 400/400 [00:16<00:00, 24.52it/s]\n",
            "100% 400/400 [00:16<00:00, 24.47it/s]\n",
            "100% 400/400 [00:16<00:00, 23.79it/s]\n",
            "100% 400/400 [00:16<00:00, 24.03it/s]\n",
            "100% 400/400 [00:16<00:00, 24.42it/s]\n",
            "100% 400/400 [00:16<00:00, 24.25it/s]\n",
            "100% 400/400 [00:16<00:00, 23.94it/s]\n",
            "74.30576070901034 ± 1.6544069152768157\n",
            "57.249993007708255 ± 1.4882857553965514\n",
            "52.64824033541767 ± 1.9422082836040162\n",
            "70.71010868712438 ± 3.1854366155920393\n"
          ]
        }
      ]
    },
    {
      "cell_type": "markdown",
      "source": [
        "## AMAP"
      ],
      "metadata": {
        "id": "bJ4KJ90pRv2H"
      }
    },
    {
      "cell_type": "code",
      "source": [
        "!python train.py #w/o pos # num classes = 8, alpha = 0.5, t = 0.7"
      ],
      "metadata": {
        "colab": {
          "base_uri": "https://localhost:8080/"
        },
        "id": "J-buGXWORoFK",
        "outputId": "3f138cbe-fee7-470d-f6ce-751df689e6db"
      },
      "execution_count": null,
      "outputs": [
        {
          "output_type": "stream",
          "name": "stdout",
          "text": [
            "++++++++++++++++++++++++++++++\n",
            "---details of graph dataset---\n",
            "++++++++++++++++++++++++++++++\n",
            "dataset name:    amap\n",
            "feature shape:   (7650, 745)\n",
            "label shape:     (7650,)\n",
            "adj shape:       (7650, 7650)\n",
            "undirected edge num:    119081\n",
            "category num:           8\n",
            "category distribution: \n",
            "label 0:369\n",
            "label 1:1686\n",
            "label 2:703\n",
            "label 3:915\n",
            "label 4:882\n",
            "label 5:823\n",
            "label 6:1941\n",
            "label 7:331\n",
            "++++++++++++++++++++++++++++++\n",
            "100% 400/400 [00:40<00:00,  9.93it/s]\n",
            "100% 400/400 [00:40<00:00,  9.95it/s]\n",
            "100% 400/400 [00:39<00:00, 10.24it/s]\n",
            "100% 400/400 [00:39<00:00, 10.16it/s]\n",
            "100% 400/400 [00:39<00:00, 10.24it/s]\n",
            "100% 400/400 [00:39<00:00, 10.04it/s]\n",
            "100% 400/400 [00:39<00:00, 10.05it/s]\n",
            "100% 400/400 [00:40<00:00,  9.97it/s]\n",
            "100% 400/400 [00:40<00:00,  9.94it/s]\n",
            "100% 400/400 [00:39<00:00, 10.04it/s]\n",
            "74.66405228758171 ± 0.4379689744600652\n",
            "61.76134898041605 ± 0.9907369332427405\n",
            "54.292815216104415 ± 0.9428472295775514\n",
            "71.31085417154608 ± 1.5955476542226807\n"
          ]
        }
      ]
    },
    {
      "cell_type": "code",
      "source": [
        "!python train.py #w/o neg # num classes = 8, alpha = 0.5, t = 0.7"
      ],
      "metadata": {
        "colab": {
          "base_uri": "https://localhost:8080/"
        },
        "id": "4ZD9piohStVF",
        "outputId": "6d39e411-44fd-4394-cc22-09bd679bdd5c"
      },
      "execution_count": null,
      "outputs": [
        {
          "output_type": "stream",
          "name": "stdout",
          "text": [
            "++++++++++++++++++++++++++++++\n",
            "---details of graph dataset---\n",
            "++++++++++++++++++++++++++++++\n",
            "dataset name:    amap\n",
            "feature shape:   (7650, 745)\n",
            "label shape:     (7650,)\n",
            "adj shape:       (7650, 7650)\n",
            "undirected edge num:    119081\n",
            "category num:           8\n",
            "category distribution: \n",
            "label 0:369\n",
            "label 1:1686\n",
            "label 2:703\n",
            "label 3:915\n",
            "label 4:882\n",
            "label 5:823\n",
            "label 6:1941\n",
            "label 7:331\n",
            "++++++++++++++++++++++++++++++\n",
            "100% 400/400 [00:39<00:00, 10.01it/s]\n",
            "100% 400/400 [00:39<00:00, 10.15it/s]\n",
            "100% 400/400 [00:39<00:00, 10.12it/s]\n",
            "100% 400/400 [00:39<00:00, 10.19it/s]\n",
            "100% 400/400 [00:39<00:00, 10.21it/s]\n",
            "100% 400/400 [00:39<00:00, 10.19it/s]\n",
            "100% 400/400 [00:39<00:00, 10.15it/s]\n",
            "100% 400/400 [00:39<00:00, 10.10it/s]\n",
            "100% 400/400 [00:38<00:00, 10.46it/s]\n",
            "100% 400/400 [00:39<00:00, 10.21it/s]\n",
            "73.82091503267974 ± 0.43402039401639053\n",
            "60.114021809983555 ± 1.172005400816656\n",
            "52.63880990454548 ± 0.9449884504679463\n",
            "70.70216213532717 ± 1.0467429458563293\n"
          ]
        }
      ]
    },
    {
      "cell_type": "markdown",
      "source": [
        "## UAT"
      ],
      "metadata": {
        "id": "6pxgNSgNW-dD"
      }
    },
    {
      "cell_type": "code",
      "source": [
        "!python train.py # w/o pos # num classes = 4, alpha = 0.01, t = 0.7"
      ],
      "metadata": {
        "colab": {
          "base_uri": "https://localhost:8080/"
        },
        "id": "-zu3NEZeja5E",
        "outputId": "a8331f50-0e2e-47c8-8dae-eb2f7119aa09"
      },
      "execution_count": null,
      "outputs": [
        {
          "output_type": "stream",
          "name": "stdout",
          "text": [
            "++++++++++++++++++++++++++++++\n",
            "---details of graph dataset---\n",
            "++++++++++++++++++++++++++++++\n",
            "dataset name:    uat\n",
            "feature shape:   (1190, 239)\n",
            "label shape:     (1190,)\n",
            "adj shape:       (1190, 1190)\n",
            "undirected edge num:    13599\n",
            "category num:           4\n",
            "category distribution: \n",
            "label 0:297\n",
            "label 1:297\n",
            "label 2:297\n",
            "label 3:299\n",
            "++++++++++++++++++++++++++++++\n",
            "100% 400/400 [00:09<00:00, 43.02it/s]\n",
            "100% 400/400 [00:08<00:00, 48.85it/s]\n",
            "100% 400/400 [00:08<00:00, 47.92it/s]\n",
            "100% 400/400 [00:07<00:00, 53.64it/s]\n",
            "100% 400/400 [00:08<00:00, 49.17it/s]\n",
            "100% 400/400 [00:08<00:00, 45.64it/s]\n",
            "100% 400/400 [00:06<00:00, 57.24it/s]\n",
            "100% 400/400 [00:09<00:00, 44.42it/s]\n",
            "100% 400/400 [00:08<00:00, 48.71it/s]\n",
            "100% 400/400 [00:08<00:00, 46.88it/s]\n",
            "55.27731092436975 ± 0.5507888943924002\n",
            "27.355815347020503 ± 0.439725144234087\n",
            "17.602179422125154 ± 0.46333216921357\n",
            "54.46221213434146 ± 0.40133568021704286\n"
          ]
        }
      ]
    },
    {
      "cell_type": "code",
      "source": [
        "!python train.py # w/o neg # num classes = 4, alpha = 0.01, t = 0.7"
      ],
      "metadata": {
        "colab": {
          "base_uri": "https://localhost:8080/"
        },
        "id": "3SSM019aXcWh",
        "outputId": "1b480ff7-cce3-4f7e-8c0a-b69dc92146d8"
      },
      "execution_count": null,
      "outputs": [
        {
          "output_type": "stream",
          "name": "stdout",
          "text": [
            "++++++++++++++++++++++++++++++\n",
            "---details of graph dataset---\n",
            "++++++++++++++++++++++++++++++\n",
            "dataset name:    uat\n",
            "feature shape:   (1190, 239)\n",
            "label shape:     (1190,)\n",
            "adj shape:       (1190, 1190)\n",
            "undirected edge num:    13599\n",
            "category num:           4\n",
            "category distribution: \n",
            "label 0:297\n",
            "label 1:297\n",
            "label 2:297\n",
            "label 3:299\n",
            "++++++++++++++++++++++++++++++\n",
            "100% 400/400 [00:07<00:00, 50.43it/s]\n",
            "100% 400/400 [00:07<00:00, 55.57it/s]\n",
            "100% 400/400 [00:07<00:00, 54.48it/s]\n",
            "100% 400/400 [00:07<00:00, 55.36it/s]\n",
            "100% 400/400 [00:07<00:00, 53.66it/s]\n",
            "100% 400/400 [00:07<00:00, 54.91it/s]\n",
            "100% 400/400 [00:07<00:00, 54.48it/s]\n",
            "100% 400/400 [00:07<00:00, 55.17it/s]\n",
            "100% 400/400 [00:07<00:00, 53.82it/s]\n",
            "100% 400/400 [00:07<00:00, 54.40it/s]\n",
            "54.168067226890756 ± 0.5277417972473138\n",
            "27.274862784333465 ± 0.7405034463793746\n",
            "21.106412887531928 ± 2.543541706938749\n",
            "51.07496390742296 ± 2.3004511182596277\n"
          ]
        }
      ]
    },
    {
      "cell_type": "markdown",
      "source": [
        "## CITESEER"
      ],
      "metadata": {
        "id": "aM3J3IV4Yn6c"
      }
    },
    {
      "cell_type": "code",
      "source": [
        "!python train.py # w/o pos # num classes = 6, alpha = 10, t = 0.7"
      ],
      "metadata": {
        "colab": {
          "base_uri": "https://localhost:8080/"
        },
        "id": "7QfFpQHdhvH8",
        "outputId": "59d6b0bd-d18f-4013-d377-071a43bc2fc9"
      },
      "execution_count": null,
      "outputs": [
        {
          "output_type": "stream",
          "name": "stdout",
          "text": [
            "++++++++++++++++++++++++++++++\n",
            "---details of graph dataset---\n",
            "++++++++++++++++++++++++++++++\n",
            "dataset name:    citeseer\n",
            "feature shape:   (3327, 3703)\n",
            "label shape:     (3327,)\n",
            "adj shape:       (3327, 3327)\n",
            "undirected edge num:    4614\n",
            "category num:           6\n",
            "category distribution: \n",
            "label 0:264\n",
            "label 1:590\n",
            "label 2:668\n",
            "label 3:701\n",
            "label 4:596\n",
            "label 5:508\n",
            "++++++++++++++++++++++++++++++\n",
            "100% 400/400 [00:18<00:00, 21.80it/s]\n",
            "100% 400/400 [00:19<00:00, 20.50it/s]\n",
            "100% 400/400 [00:17<00:00, 22.31it/s]\n",
            "100% 400/400 [00:18<00:00, 22.17it/s]\n",
            "100% 400/400 [00:18<00:00, 21.75it/s]\n",
            "100% 400/400 [00:18<00:00, 21.35it/s]\n",
            "100% 400/400 [00:18<00:00, 22.04it/s]\n",
            "100% 400/400 [00:17<00:00, 22.23it/s]\n",
            "100% 400/400 [00:18<00:00, 21.19it/s]\n",
            "100% 400/400 [00:18<00:00, 21.26it/s]\n",
            "69.82266305981365 ± 0.8255588530256853\n",
            "44.024283910825325 ± 0.7692141461056282\n",
            "45.35221270758215 ± 1.4463827044411217\n",
            "64.78604861755129 ± 1.3668005971473642\n"
          ]
        }
      ]
    },
    {
      "cell_type": "code",
      "source": [
        "!python train.py # w/o neg # num classes = 6, alpha = 10, t = 0.7"
      ],
      "metadata": {
        "colab": {
          "base_uri": "https://localhost:8080/"
        },
        "id": "MmiguCo5Y0vO",
        "outputId": "963cd944-3339-4ac4-c3ce-27eb859cfcdf"
      },
      "execution_count": null,
      "outputs": [
        {
          "output_type": "stream",
          "name": "stdout",
          "text": [
            "++++++++++++++++++++++++++++++\n",
            "---details of graph dataset---\n",
            "++++++++++++++++++++++++++++++\n",
            "dataset name:    citeseer\n",
            "feature shape:   (3327, 3703)\n",
            "label shape:     (3327,)\n",
            "adj shape:       (3327, 3327)\n",
            "undirected edge num:    4614\n",
            "category num:           6\n",
            "category distribution: \n",
            "label 0:264\n",
            "label 1:590\n",
            "label 2:668\n",
            "label 3:701\n",
            "label 4:596\n",
            "label 5:508\n",
            "++++++++++++++++++++++++++++++\n",
            "100% 400/400 [00:18<00:00, 21.79it/s]\n",
            "100% 400/400 [00:17<00:00, 22.32it/s]\n",
            "100% 400/400 [00:07<00:00, 50.14it/s] \n",
            "100% 400/400 [00:17<00:00, 22.36it/s]\n",
            "100% 400/400 [00:18<00:00, 21.95it/s]\n",
            "100% 400/400 [00:19<00:00, 20.91it/s]\n",
            "100% 400/400 [00:18<00:00, 22.06it/s]\n",
            "100% 400/400 [00:18<00:00, 22.13it/s]\n",
            "100% 400/400 [00:18<00:00, 21.76it/s]\n",
            "100% 400/400 [00:19<00:00, 20.70it/s]\n",
            "69.73549744514578 ± 1.0542678093766127\n",
            "43.88682504628344 ± 1.1434680975223206\n",
            "45.30515601936774 ± 1.5212415233141532\n",
            "64.33306429002648 ± 1.7896912904122906\n"
          ]
        }
      ]
    },
    {
      "cell_type": "markdown",
      "source": [
        "## BAT"
      ],
      "metadata": {
        "id": "y9o2J4qHgzCQ"
      }
    },
    {
      "cell_type": "code",
      "source": [
        "!python train.py #w/o pos # num samples = 4, t = 0.7, alpha = 0.5"
      ],
      "metadata": {
        "colab": {
          "base_uri": "https://localhost:8080/"
        },
        "id": "dn6APxWbhAq9",
        "outputId": "2e6d71b8-3ee3-4e9d-e24b-45860945e8d5"
      },
      "execution_count": null,
      "outputs": [
        {
          "output_type": "stream",
          "name": "stdout",
          "text": [
            "++++++++++++++++++++++++++++++\n",
            "---details of graph dataset---\n",
            "++++++++++++++++++++++++++++++\n",
            "dataset name:    bat\n",
            "feature shape:   (131, 81)\n",
            "label shape:     (131,)\n",
            "adj shape:       (131, 131)\n",
            "undirected edge num:    1038\n",
            "category num:           4\n",
            "category distribution: \n",
            "label 0:32\n",
            "label 1:32\n",
            "label 2:32\n",
            "label 3:35\n",
            "++++++++++++++++++++++++++++++\n",
            "100% 400/400 [00:03<00:00, 108.72it/s]\n",
            "100% 400/400 [00:04<00:00, 91.91it/s]\n",
            "100% 400/400 [00:03<00:00, 113.68it/s]\n",
            "100% 400/400 [00:03<00:00, 122.18it/s]\n",
            "100% 400/400 [00:03<00:00, 123.13it/s]\n",
            "100% 400/400 [00:04<00:00, 97.28it/s]\n",
            "100% 400/400 [00:03<00:00, 110.42it/s]\n",
            "100% 400/400 [00:02<00:00, 133.68it/s]\n",
            "100% 400/400 [00:03<00:00, 128.25it/s]\n",
            "100% 400/400 [00:03<00:00, 117.08it/s]\n",
            "70.22900763358778 ± 2.0196574893622796\n",
            "45.484630151863946 ± 2.4772670451787833\n",
            "40.17013841653872 ± 3.4510169658595546\n",
            "70.55842106789882 ± 1.8701377815194768\n"
          ]
        }
      ]
    },
    {
      "cell_type": "code",
      "source": [
        "!python train.py #w/o neg # num samples = 4, t = 0.7, alpha = 0.5"
      ],
      "metadata": {
        "colab": {
          "base_uri": "https://localhost:8080/"
        },
        "id": "ZKDjMdNyZ8kj",
        "outputId": "7464bc9a-f761-45c1-c3d2-bcdb36c8816a"
      },
      "execution_count": null,
      "outputs": [
        {
          "output_type": "stream",
          "name": "stdout",
          "text": [
            "++++++++++++++++++++++++++++++\n",
            "---details of graph dataset---\n",
            "++++++++++++++++++++++++++++++\n",
            "dataset name:    bat\n",
            "feature shape:   (131, 81)\n",
            "label shape:     (131,)\n",
            "adj shape:       (131, 131)\n",
            "undirected edge num:    1038\n",
            "category num:           4\n",
            "category distribution: \n",
            "label 0:32\n",
            "label 1:32\n",
            "label 2:32\n",
            "label 3:35\n",
            "++++++++++++++++++++++++++++++\n",
            "100% 400/400 [00:03<00:00, 125.17it/s]\n",
            "100% 400/400 [00:03<00:00, 112.45it/s]\n",
            "100% 400/400 [00:03<00:00, 119.24it/s]\n",
            "100% 400/400 [00:02<00:00, 134.67it/s]\n",
            "100% 400/400 [00:03<00:00, 132.92it/s]\n",
            "100% 400/400 [00:03<00:00, 125.77it/s]\n",
            "100% 400/400 [00:03<00:00, 105.20it/s]\n",
            "100% 400/400 [00:02<00:00, 137.83it/s]\n",
            "100% 400/400 [00:02<00:00, 138.46it/s]\n",
            "100% 400/400 [00:02<00:00, 138.35it/s]\n",
            "72.59541984732824 ± 1.2520014860195963\n",
            "48.34086014950523 ± 1.5143354899697459\n",
            "44.12953064470338 ± 2.3184262507169877\n",
            "72.72756081544014 ± 1.203921304083403\n"
          ]
        }
      ]
    },
    {
      "cell_type": "markdown",
      "source": [
        "## EAT"
      ],
      "metadata": {
        "id": "kWmQqJQ1Oe4C"
      }
    },
    {
      "cell_type": "code",
      "source": [
        "!python train.py #w/o neg # num classes = 4, alpha = 0.6, t = 0.7"
      ],
      "metadata": {
        "colab": {
          "base_uri": "https://localhost:8080/"
        },
        "id": "ABI1dllchUbj",
        "outputId": "dc613af8-51ec-47ce-c8c0-62b134321480"
      },
      "execution_count": null,
      "outputs": [
        {
          "output_type": "stream",
          "name": "stdout",
          "text": [
            "++++++++++++++++++++++++++++++\n",
            "---details of graph dataset---\n",
            "++++++++++++++++++++++++++++++\n",
            "dataset name:    eat\n",
            "feature shape:   (399, 203)\n",
            "label shape:     (399,)\n",
            "adj shape:       (399, 399)\n",
            "undirected edge num:    5994\n",
            "category num:           4\n",
            "category distribution: \n",
            "label 0:99\n",
            "label 1:99\n",
            "label 2:99\n",
            "label 3:102\n",
            "++++++++++++++++++++++++++++++\n",
            "100% 400/400 [00:10<00:00, 37.00it/s]\n",
            "100% 400/400 [00:07<00:00, 56.34it/s]\n",
            "100% 400/400 [00:08<00:00, 46.36it/s]\n",
            "100% 400/400 [00:03<00:00, 107.31it/s]\n",
            "100% 400/400 [00:03<00:00, 112.97it/s]\n",
            "100% 400/400 [00:03<00:00, 106.91it/s]\n",
            "100% 400/400 [00:04<00:00, 87.51it/s]\n",
            "100% 400/400 [00:03<00:00, 110.17it/s]\n",
            "100% 400/400 [00:03<00:00, 110.76it/s]\n",
            "100% 400/400 [00:03<00:00, 100.26it/s]\n",
            "52.40601503759399 ± 0.44056129902874547\n",
            "25.532921771540256 ± 0.49770194177682126\n",
            "20.057336082644966 ± 0.4696151502976026\n",
            "53.036017683172034 ± 0.4377188818952622\n"
          ]
        }
      ]
    },
    {
      "cell_type": "code",
      "source": [
        "!python train.py #w/o pos # num classes = 4, alpha = 0.6, t = 0.7"
      ],
      "metadata": {
        "colab": {
          "base_uri": "https://localhost:8080/"
        },
        "id": "kJMzw-mkO-15",
        "outputId": "15b15ca7-b28c-48ac-8a60-e47568f6912b"
      },
      "execution_count": null,
      "outputs": [
        {
          "output_type": "stream",
          "name": "stdout",
          "text": [
            "++++++++++++++++++++++++++++++\n",
            "---details of graph dataset---\n",
            "++++++++++++++++++++++++++++++\n",
            "dataset name:    eat\n",
            "feature shape:   (399, 203)\n",
            "label shape:     (399,)\n",
            "adj shape:       (399, 399)\n",
            "undirected edge num:    5994\n",
            "category num:           4\n",
            "category distribution: \n",
            "label 0:99\n",
            "label 1:99\n",
            "label 2:99\n",
            "label 3:102\n",
            "++++++++++++++++++++++++++++++\n",
            "100% 400/400 [00:04<00:00, 98.71it/s]\n",
            "100% 400/400 [00:03<00:00, 100.68it/s]\n",
            "100% 400/400 [00:04<00:00, 85.32it/s]\n",
            "100% 400/400 [00:03<00:00, 103.75it/s]\n",
            "100% 400/400 [00:03<00:00, 105.19it/s]\n",
            "100% 400/400 [00:04<00:00, 84.11it/s]\n",
            "100% 400/400 [00:04<00:00, 84.74it/s]\n",
            "100% 400/400 [00:03<00:00, 104.27it/s]\n",
            "100% 400/400 [00:04<00:00, 94.06it/s]\n",
            "100% 400/400 [00:04<00:00, 87.41it/s]\n",
            "52.38095238095239 ± 0.33625082368417836\n",
            "25.181334559646636 ± 0.3146190847905841\n",
            "20.03489877508472 ± 0.6349106192647176\n",
            "53.02565177923502 ± 0.3678133130328929\n"
          ]
        }
      ]
    },
    {
      "cell_type": "code",
      "source": [],
      "metadata": {
        "id": "b_lt39NxQMU6"
      },
      "execution_count": null,
      "outputs": []
    }
  ]
}