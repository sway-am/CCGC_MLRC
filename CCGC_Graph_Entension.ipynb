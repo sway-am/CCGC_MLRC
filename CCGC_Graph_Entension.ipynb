{
  "nbformat": 4,
  "nbformat_minor": 0,
  "metadata": {
    "colab": {
      "provenance": [],
      "gpuType": "T4",
      "include_colab_link": true
    },
    "kernelspec": {
      "name": "python3",
      "display_name": "Python 3"
    },
    "language_info": {
      "name": "python"
    },
    "accelerator": "GPU"
  },
  "cells": [
    {
      "cell_type": "markdown",
      "metadata": {
        "id": "view-in-github",
        "colab_type": "text"
      },
      "source": [
        "<a href=\"https://colab.research.google.com/github/sway-am/CCGC_MLRC/blob/main/CCGC_Graph_Entension.ipynb\" target=\"_parent\"><img src=\"https://colab.research.google.com/assets/colab-badge.svg\" alt=\"Open In Colab\"/></a>"
      ]
    },
    {
      "cell_type": "markdown",
      "source": [
        "### REQUIREMENTS"
      ],
      "metadata": {
        "id": "yEwqUNuvILvI"
      }
    },
    {
      "cell_type": "code",
      "execution_count": 1,
      "metadata": {
        "colab": {
          "base_uri": "https://localhost:8080/"
        },
        "id": "IYI1f1QcxJbJ",
        "outputId": "28e94317-b1f1-46e0-bdb3-a66829ff5d5d"
      },
      "outputs": [
        {
          "output_type": "stream",
          "name": "stdout",
          "text": [
            "Mounted at /content/gdrive\n"
          ]
        }
      ],
      "source": [
        "from google.colab import drive\n",
        "drive.mount('/content/gdrive')"
      ]
    },
    {
      "cell_type": "code",
      "source": [
        "%cd /content/gdrive/MyDrive/CCGC_MLRC"
      ],
      "metadata": {
        "colab": {
          "base_uri": "https://localhost:8080/"
        },
        "id": "SCI3RLNWxxd0",
        "outputId": "191dba8b-6420-43ef-9304-59ba3cdd472d"
      },
      "execution_count": 2,
      "outputs": [
        {
          "output_type": "stream",
          "name": "stdout",
          "text": [
            "/content/gdrive/MyDrive/CCGC_MLRC\n"
          ]
        }
      ]
    },
    {
      "cell_type": "code",
      "source": [
        "!git clone https://github.com/sway-am/CCGC_MLRC.git"
      ],
      "metadata": {
        "colab": {
          "base_uri": "https://localhost:8080/"
        },
        "id": "ooZOk3RtxRmu",
        "outputId": "89b8e5ea-5bf4-4fbe-b0b4-09721856b438"
      },
      "execution_count": null,
      "outputs": [
        {
          "output_type": "stream",
          "name": "stdout",
          "text": [
            "Cloning into 'CCGC_MLRC'...\n",
            "remote: Enumerating objects: 60, done.\u001b[K\n",
            "remote: Counting objects: 100% (60/60), done.\u001b[K\n",
            "remote: Compressing objects: 100% (50/50), done.\u001b[K\n",
            "remote: Total 60 (delta 19), reused 31 (delta 6), pack-reused 0\u001b[K\n",
            "Receiving objects: 100% (60/60), 1.79 MiB | 5.33 MiB/s, done.\n",
            "Resolving deltas: 100% (19/19), done.\n"
          ]
        }
      ]
    },
    {
      "cell_type": "code",
      "source": [
        "%cd /content/CCGC_MLRC"
      ],
      "metadata": {
        "colab": {
          "base_uri": "https://localhost:8080/"
        },
        "id": "S_a6GwYsxhSD",
        "outputId": "b8a373b5-1559-412e-eb6f-2091f510c905"
      },
      "execution_count": null,
      "outputs": [
        {
          "output_type": "stream",
          "name": "stdout",
          "text": [
            "/content/CCGC_MLRC\n"
          ]
        }
      ]
    },
    {
      "cell_type": "code",
      "source": [
        "!pip install munkres"
      ],
      "metadata": {
        "colab": {
          "base_uri": "https://localhost:8080/"
        },
        "id": "FVl6LFrq03p5",
        "outputId": "2d6b5e6a-b89d-4385-acae-2dd72ad00edc"
      },
      "execution_count": 3,
      "outputs": [
        {
          "output_type": "stream",
          "name": "stdout",
          "text": [
            "Collecting munkres\n",
            "  Downloading munkres-1.1.4-py2.py3-none-any.whl (7.0 kB)\n",
            "Installing collected packages: munkres\n",
            "Successfully installed munkres-1.1.4\n"
          ]
        }
      ]
    },
    {
      "cell_type": "code",
      "source": [
        "!pip install torch_geometric"
      ],
      "metadata": {
        "colab": {
          "base_uri": "https://localhost:8080/"
        },
        "id": "fkJrFs7v0676",
        "outputId": "bb9fc363-4793-475e-bac5-68887c05792c"
      },
      "execution_count": 4,
      "outputs": [
        {
          "output_type": "stream",
          "name": "stdout",
          "text": [
            "Collecting torch_geometric\n",
            "  Downloading torch_geometric-2.4.0-py3-none-any.whl (1.0 MB)\n",
            "\u001b[?25l     \u001b[90m━━━━━━━━━━━━━━━━━━━━━━━━━━━━━━━━━━━━━━━━\u001b[0m \u001b[32m0.0/1.0 MB\u001b[0m \u001b[31m?\u001b[0m eta \u001b[36m-:--:--\u001b[0m\r\u001b[2K     \u001b[91m━━━━━━━\u001b[0m\u001b[91m╸\u001b[0m\u001b[90m━━━━━━━━━━━━━━━━━━━━━━━━━━━━━━━━\u001b[0m \u001b[32m0.2/1.0 MB\u001b[0m \u001b[31m6.1 MB/s\u001b[0m eta \u001b[36m0:00:01\u001b[0m\r\u001b[2K     \u001b[91m━━━━━━━━━━━━━━━━━━━━━━━━\u001b[0m\u001b[91m╸\u001b[0m\u001b[90m━━━━━━━━━━━━━━━\u001b[0m \u001b[32m0.6/1.0 MB\u001b[0m \u001b[31m9.3 MB/s\u001b[0m eta \u001b[36m0:00:01\u001b[0m\r\u001b[2K     \u001b[91m━━━━━━━━━━━━━━━━━━━━━━━━━━━━━━━━━━━━━━━\u001b[0m\u001b[91m╸\u001b[0m \u001b[32m1.0/1.0 MB\u001b[0m \u001b[31m10.8 MB/s\u001b[0m eta \u001b[36m0:00:01\u001b[0m\r\u001b[2K     \u001b[90m━━━━━━━━━━━━━━━━━━━━━━━━━━━━━━━━━━━━━━━━\u001b[0m \u001b[32m1.0/1.0 MB\u001b[0m \u001b[31m9.5 MB/s\u001b[0m eta \u001b[36m0:00:00\u001b[0m\n",
            "\u001b[?25hRequirement already satisfied: tqdm in /usr/local/lib/python3.10/dist-packages (from torch_geometric) (4.66.1)\n",
            "Requirement already satisfied: numpy in /usr/local/lib/python3.10/dist-packages (from torch_geometric) (1.23.5)\n",
            "Requirement already satisfied: scipy in /usr/local/lib/python3.10/dist-packages (from torch_geometric) (1.11.4)\n",
            "Requirement already satisfied: jinja2 in /usr/local/lib/python3.10/dist-packages (from torch_geometric) (3.1.3)\n",
            "Requirement already satisfied: requests in /usr/local/lib/python3.10/dist-packages (from torch_geometric) (2.31.0)\n",
            "Requirement already satisfied: pyparsing in /usr/local/lib/python3.10/dist-packages (from torch_geometric) (3.1.1)\n",
            "Requirement already satisfied: scikit-learn in /usr/local/lib/python3.10/dist-packages (from torch_geometric) (1.2.2)\n",
            "Requirement already satisfied: psutil>=5.8.0 in /usr/local/lib/python3.10/dist-packages (from torch_geometric) (5.9.5)\n",
            "Requirement already satisfied: MarkupSafe>=2.0 in /usr/local/lib/python3.10/dist-packages (from jinja2->torch_geometric) (2.1.4)\n",
            "Requirement already satisfied: charset-normalizer<4,>=2 in /usr/local/lib/python3.10/dist-packages (from requests->torch_geometric) (3.3.2)\n",
            "Requirement already satisfied: idna<4,>=2.5 in /usr/local/lib/python3.10/dist-packages (from requests->torch_geometric) (3.6)\n",
            "Requirement already satisfied: urllib3<3,>=1.21.1 in /usr/local/lib/python3.10/dist-packages (from requests->torch_geometric) (2.0.7)\n",
            "Requirement already satisfied: certifi>=2017.4.17 in /usr/local/lib/python3.10/dist-packages (from requests->torch_geometric) (2023.11.17)\n",
            "Requirement already satisfied: joblib>=1.1.1 in /usr/local/lib/python3.10/dist-packages (from scikit-learn->torch_geometric) (1.3.2)\n",
            "Requirement already satisfied: threadpoolctl>=2.0.0 in /usr/local/lib/python3.10/dist-packages (from scikit-learn->torch_geometric) (3.2.0)\n",
            "Installing collected packages: torch_geometric\n",
            "Successfully installed torch_geometric-2.4.0\n"
          ]
        }
      ]
    },
    {
      "cell_type": "code",
      "source": [],
      "metadata": {
        "id": "GwBaJdfeZFzA"
      },
      "execution_count": null,
      "outputs": []
    },
    {
      "cell_type": "markdown",
      "source": [
        "### **Applying CCGC on other graph dataset**"
      ],
      "metadata": {
        "id": "6k4ygaR6oOgV"
      }
    },
    {
      "cell_type": "markdown",
      "source": [
        "**ACM**"
      ],
      "metadata": {
        "id": "hls5jObZlcZt"
      }
    },
    {
      "cell_type": "code",
      "source": [
        "ds = \"acm\"\n",
        "noc = 3\n",
        "dims = 1870\n",
        "!python train.py --dataset $ds --cluster_num $noc --dims $dims"
      ],
      "metadata": {
        "colab": {
          "base_uri": "https://localhost:8080/"
        },
        "id": "-4nkDlJLlbog",
        "outputId": "1c644ade-d0dc-4713-c865-4799181c02ff"
      },
      "execution_count": 52,
      "outputs": [
        {
          "output_type": "stream",
          "name": "stdout",
          "text": [
            "Alpha: 0.5\n",
            "Threshold: 0.5\n",
            "++++++++++++++++++++++++++++++\n",
            "---details of graph dataset---\n",
            "++++++++++++++++++++++++++++++\n",
            "dataset name:    acm\n",
            "feature shape:   (3025, 1870)\n",
            "label shape:     (3025,)\n",
            "adj shape:       (3025, 3025)\n",
            "undirected edge num:    13128\n",
            "category num:           3\n",
            "category distribution: \n",
            "label 0:1061\n",
            "label 1:965\n",
            "label 2:999\n",
            "++++++++++++++++++++++++++++++\n",
            "100% 400/400 [00:22<00:00, 18.14it/s]\n",
            "100% 400/400 [00:21<00:00, 18.23it/s]\n",
            "100% 400/400 [00:21<00:00, 18.41it/s]\n",
            "100% 400/400 [00:21<00:00, 18.25it/s]\n",
            "100% 400/400 [00:22<00:00, 17.66it/s]\n",
            "100% 400/400 [00:22<00:00, 17.96it/s]\n",
            "100% 400/400 [00:22<00:00, 17.95it/s]\n",
            "100% 400/400 [00:22<00:00, 17.81it/s]\n",
            "100% 400/400 [00:22<00:00, 17.57it/s]\n",
            "100% 400/400 [00:22<00:00, 17.61it/s]\n",
            "89.51735537190083 ± 0.5567966769333547\n",
            "66.01814521183911 ± 1.2169209427947212\n",
            "71.68780171977154 ± 1.2915319709818194\n",
            "89.4627277692233 ± 0.5762581389497602\n"
          ]
        }
      ]
    },
    {
      "cell_type": "markdown",
      "source": [
        "**DBLP**"
      ],
      "metadata": {
        "id": "DtnLQdSTqJqu"
      }
    },
    {
      "cell_type": "code",
      "source": [
        "%cd /content/gdrive/MyDrive/CCGC_MLRC"
      ],
      "metadata": {
        "colab": {
          "base_uri": "https://localhost:8080/"
        },
        "id": "YrscHBKprY_f",
        "outputId": "ae7b5221-74df-4d98-fdfb-f777e4dad9e9"
      },
      "execution_count": 21,
      "outputs": [
        {
          "output_type": "stream",
          "name": "stdout",
          "text": [
            "/content/gdrive/MyDrive/CCGC_MLRC\n"
          ]
        }
      ]
    },
    {
      "cell_type": "code",
      "source": [
        "!unzip /content/gdrive/MyDrive/CCGC_MLRC/data/dblp.zip"
      ],
      "metadata": {
        "colab": {
          "base_uri": "https://localhost:8080/"
        },
        "id": "d50O35BJqj1k",
        "outputId": "572a0f01-4726-4d49-c0ca-cda80ddd0a24"
      },
      "execution_count": 19,
      "outputs": [
        {
          "output_type": "stream",
          "name": "stdout",
          "text": [
            "Archive:  /content/gdrive/MyDrive/CCGC_MLRC/data/dblp.zip\n",
            "  inflating: dblp_adj.npy            \n",
            "  inflating: dblp_feat.npy           \n",
            "  inflating: dblp_label.npy          \n"
          ]
        }
      ]
    },
    {
      "cell_type": "code",
      "source": [
        "ds = \"dblp\"\n",
        "noc = 4\n",
        "dims = 334\n",
        "!python train.py --dataset $ds --cluster_num $noc --dims $dims"
      ],
      "metadata": {
        "colab": {
          "base_uri": "https://localhost:8080/"
        },
        "id": "CmKk2Qzgn9Rs",
        "outputId": "f4b06473-0a79-41df-db0f-e12265ca08b6"
      },
      "execution_count": 53,
      "outputs": [
        {
          "output_type": "stream",
          "name": "stdout",
          "text": [
            "Alpha: 0.5\n",
            "Threshold: 0.5\n",
            "++++++++++++++++++++++++++++++\n",
            "---details of graph dataset---\n",
            "++++++++++++++++++++++++++++++\n",
            "dataset name:    dblp\n",
            "feature shape:   (4057, 334)\n",
            "label shape:     (4057,)\n",
            "adj shape:       (4057, 4057)\n",
            "undirected edge num:    3528\n",
            "category num:           4\n",
            "category distribution: \n",
            "label 0:1197\n",
            "label 1:745\n",
            "label 2:1109\n",
            "label 3:1006\n",
            "++++++++++++++++++++++++++++++\n",
            "100% 400/400 [00:17<00:00, 22.87it/s]\n",
            "100% 400/400 [00:18<00:00, 22.20it/s]\n",
            "100% 400/400 [00:16<00:00, 23.83it/s]\n",
            "100% 400/400 [00:16<00:00, 23.88it/s]\n",
            "100% 400/400 [00:17<00:00, 23.03it/s]\n",
            "100% 400/400 [00:16<00:00, 23.82it/s]\n",
            "100% 400/400 [00:16<00:00, 24.30it/s]\n",
            "100% 400/400 [00:17<00:00, 22.90it/s]\n",
            "100% 400/400 [00:16<00:00, 23.94it/s]\n",
            "100% 400/400 [00:16<00:00, 24.05it/s]\n",
            "52.82721222578259 ± 2.299896617055\n",
            "24.040650509179898 ± 2.481887121164436\n",
            "17.855678707703415 ± 1.9192230144560185\n",
            "53.28053794094235 ± 2.1584173234540023\n"
          ]
        }
      ]
    },
    {
      "cell_type": "markdown",
      "source": [
        "**AMAC**"
      ],
      "metadata": {
        "id": "uwnv5GLXs5FE"
      }
    },
    {
      "cell_type": "code",
      "source": [
        "%cd /content/gdrive/MyDrive/CCGC_MLRC"
      ],
      "metadata": {
        "colab": {
          "base_uri": "https://localhost:8080/"
        },
        "id": "_4RaZHaZr93F",
        "outputId": "4bf46e8a-433a-4b72-e240-7d69a8ba7a5c"
      },
      "execution_count": 26,
      "outputs": [
        {
          "output_type": "stream",
          "name": "stdout",
          "text": [
            "/content/gdrive/MyDrive/CCGC_MLRC\n"
          ]
        }
      ]
    },
    {
      "cell_type": "code",
      "source": [
        "!unzip /content/gdrive/MyDrive/CCGC_MLRC/data/amac.zip"
      ],
      "metadata": {
        "colab": {
          "base_uri": "https://localhost:8080/"
        },
        "id": "ptw59z37tA8x",
        "outputId": "a1cf86fe-c167-44a3-c15a-27536d4c7057"
      },
      "execution_count": 24,
      "outputs": [
        {
          "output_type": "stream",
          "name": "stdout",
          "text": [
            "Archive:  /content/gdrive/MyDrive/CCGC_MLRC/data/amac.zip\n",
            "   creating: amac/\n",
            "  inflating: amac/amac_adj.npy       \n",
            "  inflating: amac/amac_feat.npy      \n",
            "  inflating: amac/amac_label.npy     \n"
          ]
        }
      ]
    },
    {
      "cell_type": "code",
      "source": [
        "ds = \"amac\"\n",
        "noc = 10\n",
        "dims = 767\n",
        "!python train.py --dataset $ds --cluster_num $noc --dims $dims"
      ],
      "metadata": {
        "colab": {
          "base_uri": "https://localhost:8080/"
        },
        "id": "X4akQwu6tBpF",
        "outputId": "9bffb246-403e-4e63-e017-4d1661569043"
      },
      "execution_count": 54,
      "outputs": [
        {
          "output_type": "stream",
          "name": "stdout",
          "text": [
            "Alpha: 0.5\n",
            "Threshold: 0.5\n",
            "++++++++++++++++++++++++++++++\n",
            "---details of graph dataset---\n",
            "++++++++++++++++++++++++++++++\n",
            "dataset name:    amac\n",
            "feature shape:   (13752, 767)\n",
            "label shape:     (13752,)\n",
            "adj shape:       (13752, 13752)\n",
            "undirected edge num:    80062\n",
            "category num:           10\n",
            "category distribution: \n",
            "label 0:436\n",
            "label 1:2142\n",
            "label 2:1414\n",
            "label 3:542\n",
            "label 4:5158\n",
            "label 5:308\n",
            "label 6:487\n",
            "label 7:818\n",
            "label 8:2156\n",
            "label 9:291\n",
            "++++++++++++++++++++++++++++++\n",
            "100% 400/400 [01:19<00:00,  5.01it/s]\n",
            "100% 400/400 [01:21<00:00,  4.92it/s]\n",
            "100% 400/400 [01:20<00:00,  4.98it/s]\n",
            "100% 400/400 [01:20<00:00,  4.95it/s]\n",
            "100% 400/400 [01:20<00:00,  4.94it/s]\n",
            "100% 400/400 [01:20<00:00,  4.95it/s]\n",
            "100% 400/400 [01:22<00:00,  4.86it/s]\n",
            "100% 400/400 [01:21<00:00,  4.93it/s]\n",
            "100% 400/400 [01:21<00:00,  4.89it/s]\n",
            "100% 400/400 [01:21<00:00,  4.89it/s]\n",
            "55.70898778359511 ± 1.1804876406424363\n",
            "34.925879360727194 ± 1.6288046442748725\n",
            "31.38779513856348 ± 1.2594530452095027\n",
            "35.71649432761254 ± 4.259395932368866\n"
          ]
        }
      ]
    },
    {
      "cell_type": "markdown",
      "source": [
        "**CORNELL**"
      ],
      "metadata": {
        "id": "mg9nK-nNteJs"
      }
    },
    {
      "cell_type": "code",
      "source": [
        "%cd /content/gdrive/MyDrive/CCGC_MLRC"
      ],
      "metadata": {
        "colab": {
          "base_uri": "https://localhost:8080/"
        },
        "id": "vkOVU6lwtgRY",
        "outputId": "444177ce-c950-4d00-8a82-95535cfbf544"
      },
      "execution_count": 35,
      "outputs": [
        {
          "output_type": "stream",
          "name": "stdout",
          "text": [
            "/content/gdrive/MyDrive/CCGC_MLRC\n"
          ]
        }
      ]
    },
    {
      "cell_type": "code",
      "source": [
        "!unzip /content/gdrive/MyDrive/CCGC_MLRC/data/cornell.zip"
      ],
      "metadata": {
        "colab": {
          "base_uri": "https://localhost:8080/"
        },
        "id": "V93ivMIPtgt3",
        "outputId": "2da13437-8c5f-4654-cf60-2da8a97bab02"
      },
      "execution_count": 33,
      "outputs": [
        {
          "output_type": "stream",
          "name": "stdout",
          "text": [
            "Archive:  /content/gdrive/MyDrive/CCGC_MLRC/data/cornell.zip\n",
            "  inflating: cornell_adj.npy         \n",
            "  inflating: cornell_feat.npy        \n",
            "  inflating: cornell_label.npy       \n"
          ]
        }
      ]
    },
    {
      "cell_type": "code",
      "source": [
        "ds = \"cornell\"\n",
        "noc = 5\n",
        "dims = 1703\n",
        "!python train.py --dataset $ds --cluster_num $noc --dims $dims"
      ],
      "metadata": {
        "colab": {
          "base_uri": "https://localhost:8080/"
        },
        "id": "nV2d1DA0tgh0",
        "outputId": "7e81e91d-bd36-4745-cac9-674b3b472fde"
      },
      "execution_count": 55,
      "outputs": [
        {
          "output_type": "stream",
          "name": "stdout",
          "text": [
            "Alpha: 0.5\n",
            "Threshold: 0.5\n",
            "++++++++++++++++++++++++++++++\n",
            "---details of graph dataset---\n",
            "++++++++++++++++++++++++++++++\n",
            "dataset name:    cornell\n",
            "feature shape:   (183, 1703)\n",
            "label shape:     (183,)\n",
            "adj shape:       (183, 183)\n",
            "undirected edge num:    149\n",
            "category num:           5\n",
            "category distribution: \n",
            "label 0:33\n",
            "label 1:1\n",
            "label 2:18\n",
            "label 3:101\n",
            "label 4:30\n",
            "++++++++++++++++++++++++++++++\n",
            "100% 400/400 [00:05<00:00, 66.67it/s]\n",
            "100% 400/400 [00:04<00:00, 82.90it/s]\n",
            "100% 400/400 [00:05<00:00, 76.64it/s]\n",
            "100% 400/400 [00:05<00:00, 79.13it/s]\n",
            "100% 400/400 [00:04<00:00, 82.78it/s]\n",
            "100% 400/400 [00:05<00:00, 72.62it/s]\n",
            "100% 400/400 [00:04<00:00, 82.10it/s]\n",
            "100% 400/400 [00:05<00:00, 78.40it/s]\n",
            "100% 400/400 [00:05<00:00, 78.53it/s]\n",
            "100% 400/400 [00:04<00:00, 82.80it/s]\n",
            "39.78142076502732 ± 1.8417813711860902\n",
            "4.703358156069957 ± 0.7196482210810383\n",
            "2.0945856031199 ± 0.7063619432600947\n",
            "27.231976806714293 ± 4.493309287472274\n"
          ]
        }
      ]
    },
    {
      "cell_type": "markdown",
      "source": [
        "**FILM**"
      ],
      "metadata": {
        "id": "8KU2H92RuTxe"
      }
    },
    {
      "cell_type": "code",
      "source": [
        "%cd /content/gdrive/MyDrive/CCGC_MLRC"
      ],
      "metadata": {
        "colab": {
          "base_uri": "https://localhost:8080/"
        },
        "id": "j51--D60ueXY",
        "outputId": "3a0ca4c7-a4f2-47bb-9f80-ae6829fba658"
      },
      "execution_count": 40,
      "outputs": [
        {
          "output_type": "stream",
          "name": "stdout",
          "text": [
            "/content/gdrive/MyDrive/CCGC_MLRC\n"
          ]
        }
      ]
    },
    {
      "cell_type": "code",
      "source": [
        "!unzip /content/gdrive/MyDrive/CCGC_MLRC/data/film.zip"
      ],
      "metadata": {
        "colab": {
          "base_uri": "https://localhost:8080/"
        },
        "id": "q548dGJkuePj",
        "outputId": "8d56ed07-918a-4181-f3d8-4a53f508a4cd"
      },
      "execution_count": 38,
      "outputs": [
        {
          "output_type": "stream",
          "name": "stdout",
          "text": [
            "Archive:  /content/gdrive/MyDrive/CCGC_MLRC/data/film.zip\n",
            "  inflating: film_adj.npy            \n",
            "  inflating: film_feat.npy           \n",
            "  inflating: film_label.npy          \n"
          ]
        }
      ]
    },
    {
      "cell_type": "code",
      "source": [
        "ds = \"film\"\n",
        "noc = 5\n",
        "dims = 932\n",
        "!python train.py --dataset $ds --cluster_num $noc --dims $dims"
      ],
      "metadata": {
        "colab": {
          "base_uri": "https://localhost:8080/"
        },
        "id": "pVeULTLcueH2",
        "outputId": "9aab8860-7f77-4352-e93f-740c1e21c5be"
      },
      "execution_count": 56,
      "outputs": [
        {
          "output_type": "stream",
          "name": "stdout",
          "text": [
            "Alpha: 0.5\n",
            "Threshold: 0.5\n",
            "++++++++++++++++++++++++++++++\n",
            "---details of graph dataset---\n",
            "++++++++++++++++++++++++++++++\n",
            "dataset name:    film\n",
            "feature shape:   (7600, 932)\n",
            "label shape:     (7600,)\n",
            "adj shape:       (7600, 7600)\n",
            "undirected edge num:    15009\n",
            "category num:           5\n",
            "category distribution: \n",
            "label 0:853\n",
            "label 1:1337\n",
            "label 2:1630\n",
            "label 3:1815\n",
            "label 4:1965\n",
            "++++++++++++++++++++++++++++++\n",
            "100% 400/400 [00:41<00:00,  9.60it/s]\n",
            "100% 400/400 [00:41<00:00,  9.57it/s]\n",
            "100% 400/400 [00:42<00:00,  9.40it/s]\n",
            "100% 400/400 [00:42<00:00,  9.47it/s]\n",
            "100% 400/400 [00:42<00:00,  9.51it/s]\n",
            "100% 400/400 [00:42<00:00,  9.51it/s]\n",
            "100% 400/400 [00:42<00:00,  9.52it/s]\n",
            "100% 400/400 [00:41<00:00,  9.54it/s]\n",
            "100% 400/400 [00:41<00:00,  9.64it/s]\n",
            "100% 400/400 [00:42<00:00,  9.44it/s]\n",
            "26.280263157894733 ± 0.11501686013947476\n",
            "0.11990302984587078 ± 0.009062598703506043\n",
            "0.2029589229686694 ± 0.05350177285465265\n",
            "12.676889618883582 ± 0.7304265222198166\n"
          ]
        }
      ]
    },
    {
      "cell_type": "markdown",
      "source": [
        "**TEXAS**"
      ],
      "metadata": {
        "id": "VOb5J79CuWKi"
      }
    },
    {
      "cell_type": "code",
      "source": [
        "%cd /content/gdrive/MyDrive/CCGC_MLRC"
      ],
      "metadata": {
        "colab": {
          "base_uri": "https://localhost:8080/"
        },
        "id": "vqP9gEQxufKW",
        "outputId": "90bfccdd-f03c-45e9-ca26-55c4f40c4b9f"
      },
      "execution_count": 45,
      "outputs": [
        {
          "output_type": "stream",
          "name": "stdout",
          "text": [
            "/content/gdrive/MyDrive/CCGC_MLRC\n"
          ]
        }
      ]
    },
    {
      "cell_type": "code",
      "source": [
        "!unzip /content/gdrive/MyDrive/CCGC_MLRC/data/texas.zip"
      ],
      "metadata": {
        "colab": {
          "base_uri": "https://localhost:8080/"
        },
        "id": "D4L_I-gaufA_",
        "outputId": "e3fcbc7a-1f4d-477c-9225-097a6cfafbe4"
      },
      "execution_count": 43,
      "outputs": [
        {
          "output_type": "stream",
          "name": "stdout",
          "text": [
            "Archive:  /content/gdrive/MyDrive/CCGC_MLRC/data/texas.zip\n",
            "  inflating: texas_adj.npy           \n",
            "  inflating: texas_feat.npy          \n",
            "  inflating: texas_label.npy         \n"
          ]
        }
      ]
    },
    {
      "cell_type": "code",
      "source": [
        "ds = \"texas\"\n",
        "noc = 5\n",
        "dims = 1703\n",
        "!python train.py --dataset $ds --cluster_num $noc --dims $dims"
      ],
      "metadata": {
        "colab": {
          "base_uri": "https://localhost:8080/"
        },
        "id": "AxCeTqWbue9g",
        "outputId": "e723a032-3d05-465e-d14b-a6d5e451c981"
      },
      "execution_count": 57,
      "outputs": [
        {
          "output_type": "stream",
          "name": "stdout",
          "text": [
            "Alpha: 0.5\n",
            "Threshold: 0.5\n",
            "++++++++++++++++++++++++++++++\n",
            "---details of graph dataset---\n",
            "++++++++++++++++++++++++++++++\n",
            "dataset name:    texas\n",
            "feature shape:   (183, 1703)\n",
            "label shape:     (183,)\n",
            "adj shape:       (183, 183)\n",
            "undirected edge num:    162\n",
            "category num:           5\n",
            "category distribution: \n",
            "label 0:33\n",
            "label 1:1\n",
            "label 2:18\n",
            "label 3:101\n",
            "label 4:30\n",
            "++++++++++++++++++++++++++++++\n",
            "100% 400/400 [00:05<00:00, 71.76it/s]\n",
            "100% 400/400 [00:04<00:00, 82.89it/s]\n",
            "100% 400/400 [00:04<00:00, 87.52it/s]\n",
            "100% 400/400 [00:05<00:00, 69.74it/s]\n",
            "100% 400/400 [00:04<00:00, 83.26it/s]\n",
            "100% 400/400 [00:05<00:00, 78.37it/s]\n",
            "100% 400/400 [00:05<00:00, 77.47it/s]\n",
            "100% 400/400 [00:04<00:00, 84.46it/s]\n",
            "100% 400/400 [00:05<00:00, 74.29it/s]\n",
            "100% 400/400 [00:04<00:00, 85.70it/s]\n",
            "47.48633879781421 ± 0.6206457208524879\n",
            "14.260239920724018 ± 0.9685427070460585\n",
            "12.460835875296505 ± 1.5283659378312364\n",
            "31.279104802120322 ± 1.9118725993075676\n"
          ]
        }
      ]
    },
    {
      "cell_type": "markdown",
      "source": [
        "**WISC**"
      ],
      "metadata": {
        "id": "v_V-tcDcuY2B"
      }
    },
    {
      "cell_type": "code",
      "source": [
        "%cd /content/gdrive/MyDrive/CCGC_MLRC"
      ],
      "metadata": {
        "colab": {
          "base_uri": "https://localhost:8080/"
        },
        "id": "J-ZEuZfauf_j",
        "outputId": "72ff8142-d6bb-4e55-eaf1-f3a849508232"
      },
      "execution_count": 49,
      "outputs": [
        {
          "output_type": "stream",
          "name": "stdout",
          "text": [
            "/content/gdrive/MyDrive/CCGC_MLRC\n"
          ]
        }
      ]
    },
    {
      "cell_type": "code",
      "source": [
        "!unzip /content/gdrive/MyDrive/CCGC_MLRC/data/wisc.zip"
      ],
      "metadata": {
        "colab": {
          "base_uri": "https://localhost:8080/"
        },
        "id": "m41sy9sTuf8I",
        "outputId": "ca811adc-c70c-4727-ff58-ac24353167f2"
      },
      "execution_count": 48,
      "outputs": [
        {
          "output_type": "stream",
          "name": "stdout",
          "text": [
            "Archive:  /content/gdrive/MyDrive/CCGC_MLRC/data/wisc.zip\n",
            "  inflating: wisc_adj.npy            \n",
            "  inflating: wisc_feat.npy           \n",
            "  inflating: wisc_label.npy          \n"
          ]
        }
      ]
    },
    {
      "cell_type": "code",
      "source": [
        "ds = \"wisc\"\n",
        "noc = 5\n",
        "dims = 1703\n",
        "!python train.py --dataset $ds --cluster_num $noc --dims $dims"
      ],
      "metadata": {
        "colab": {
          "base_uri": "https://localhost:8080/"
        },
        "id": "RSIwIUDnuf5d",
        "outputId": "15bda05a-bf63-4748-94f4-51b71bb8e566"
      },
      "execution_count": 58,
      "outputs": [
        {
          "output_type": "stream",
          "name": "stdout",
          "text": [
            "Alpha: 0.5\n",
            "Threshold: 0.5\n",
            "++++++++++++++++++++++++++++++\n",
            "---details of graph dataset---\n",
            "++++++++++++++++++++++++++++++\n",
            "dataset name:    wisc\n",
            "feature shape:   (251, 1703)\n",
            "label shape:     (251,)\n",
            "adj shape:       (251, 251)\n",
            "undirected edge num:    257\n",
            "category num:           5\n",
            "category distribution: \n",
            "label 0:10\n",
            "label 1:70\n",
            "label 2:118\n",
            "label 3:32\n",
            "label 4:21\n",
            "++++++++++++++++++++++++++++++\n",
            "100% 400/400 [00:05<00:00, 70.80it/s]\n",
            "100% 400/400 [00:05<00:00, 73.37it/s]\n",
            "100% 400/400 [00:05<00:00, 72.02it/s]\n",
            "100% 400/400 [00:05<00:00, 77.06it/s]\n",
            "100% 400/400 [00:05<00:00, 67.81it/s]\n",
            "100% 400/400 [00:05<00:00, 73.19it/s]\n",
            "100% 400/400 [00:05<00:00, 68.03it/s]\n",
            "100% 400/400 [00:05<00:00, 76.76it/s]\n",
            "100% 400/400 [00:05<00:00, 75.77it/s]\n",
            "100% 400/400 [00:05<00:00, 72.57it/s]\n",
            "44.58167330677291 ± 1.5060604120665961\n",
            "8.174855469634084 ± 0.7442539280406038\n",
            "3.230765351836213 ± 1.0243319257022365\n",
            "26.708770296225055 ± 1.9960343068885136\n"
          ]
        }
      ]
    },
    {
      "cell_type": "code",
      "source": [
        "ds = \"wisc\"\n",
        "noc = 5\n",
        "\n",
        "!python train.py --dataset $ds --cluster_num $noc"
      ],
      "metadata": {
        "colab": {
          "base_uri": "https://localhost:8080/"
        },
        "id": "rqLBzyka0nV2",
        "outputId": "ff9a20f8-b8f3-4659-ec21-4615769e29d4"
      },
      "execution_count": 54,
      "outputs": [
        {
          "output_type": "stream",
          "name": "stdout",
          "text": [
            "++++++++++++++++++++++++++++++\n",
            "---details of graph dataset---\n",
            "++++++++++++++++++++++++++++++\n",
            "dataset name:    wisc\n",
            "feature shape:   (251, 1703)\n",
            "label shape:     (251,)\n",
            "adj shape:       (251, 251)\n",
            "undirected edge num:    257\n",
            "category num:           5\n",
            "category distribution: \n",
            "label 0:10\n",
            "label 1:70\n",
            "label 2:118\n",
            "label 3:32\n",
            "label 4:21\n",
            "++++++++++++++++++++++++++++++\n",
            "100% 400/400 [00:05<00:00, 76.05it/s]\n",
            "100% 400/400 [00:04<00:00, 95.61it/s]\n",
            "100% 400/400 [00:04<00:00, 95.39it/s]\n",
            "100% 400/400 [00:04<00:00, 82.50it/s]\n",
            "100% 400/400 [00:04<00:00, 96.87it/s]\n",
            "100% 400/400 [00:04<00:00, 86.15it/s]\n",
            "100% 400/400 [00:04<00:00, 86.55it/s]\n",
            "100% 400/400 [00:04<00:00, 98.13it/s]\n",
            "100% 400/400 [00:04<00:00, 87.88it/s]\n",
            "100% 400/400 [00:04<00:00, 88.55it/s]\n",
            "100% 400/400 [00:04<00:00, 95.98it/s]\n",
            "100% 400/400 [00:04<00:00, 86.45it/s]\n",
            "100% 400/400 [00:04<00:00, 89.40it/s]\n",
            "100% 400/400 [00:04<00:00, 96.89it/s]\n",
            "100% 400/400 [00:04<00:00, 81.16it/s]\n",
            "100% 400/400 [00:04<00:00, 95.29it/s]\n",
            "100% 400/400 [00:04<00:00, 92.51it/s]\n",
            "100% 400/400 [00:03<00:00, 127.49it/s]\n",
            "100% 400/400 [00:03<00:00, 107.25it/s]\n",
            "100% 400/400 [00:04<00:00, 97.03it/s]\n",
            "100% 400/400 [00:04<00:00, 90.31it/s]\n",
            "100% 400/400 [00:04<00:00, 87.04it/s]\n",
            "100% 400/400 [00:02<00:00, 194.00it/s]\n",
            "100% 400/400 [00:04<00:00, 93.20it/s]\n",
            "100% 400/400 [00:04<00:00, 81.93it/s]\n",
            "100% 400/400 [00:04<00:00, 97.04it/s]\n",
            "100% 400/400 [00:04<00:00, 99.54it/s]\n",
            "100% 400/400 [00:04<00:00, 84.58it/s]\n",
            "100% 400/400 [00:04<00:00, 99.19it/s]\n",
            "100% 400/400 [00:04<00:00, 99.68it/s]\n",
            "100% 400/400 [00:04<00:00, 83.12it/s]\n",
            "100% 400/400 [00:04<00:00, 97.99it/s]\n",
            "100% 400/400 [00:04<00:00, 96.17it/s]\n",
            "100% 400/400 [00:04<00:00, 83.14it/s]\n",
            "100% 400/400 [00:04<00:00, 98.17it/s]\n",
            "100% 400/400 [00:04<00:00, 96.21it/s]\n",
            "100% 400/400 [00:04<00:00, 87.33it/s]\n",
            "100% 400/400 [00:04<00:00, 98.68it/s]\n",
            "100% 400/400 [00:04<00:00, 94.73it/s]\n",
            "100% 400/400 [00:04<00:00, 86.15it/s]\n",
            "100% 400/400 [00:04<00:00, 99.38it/s]\n",
            "100% 400/400 [00:04<00:00, 94.45it/s]\n",
            "100% 400/400 [00:04<00:00, 86.97it/s]\n",
            "100% 400/400 [00:04<00:00, 98.14it/s]\n",
            "100% 400/400 [00:04<00:00, 92.20it/s]\n",
            "100% 400/400 [00:04<00:00, 89.46it/s]\n",
            "100% 400/400 [00:04<00:00, 96.65it/s]\n",
            "100% 400/400 [00:04<00:00, 87.94it/s]\n",
            "100% 400/400 [00:04<00:00, 91.95it/s]\n",
            "100% 400/400 [00:04<00:00, 99.06it/s]\n",
            "49.72908366533865 ± 5.052502872166391\n",
            "24.900831393932343 ± 7.126964145993661\n",
            "11.827575553989497 ± 7.770027192255425\n",
            "30.73341064638544 ± 6.4159608731148206\n"
          ]
        }
      ]
    }
  ]
}